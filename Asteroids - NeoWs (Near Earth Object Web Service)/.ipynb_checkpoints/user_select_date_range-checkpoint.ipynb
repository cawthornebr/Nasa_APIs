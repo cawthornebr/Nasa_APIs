{
 "cells": [
  {
   "cell_type": "markdown",
   "metadata": {},
   "source": [
    "# Look up NEO in date range"
   ]
  },
  {
   "cell_type": "markdown",
   "metadata": {},
   "source": [
    "### Import dependencies"
   ]
  },
  {
   "cell_type": "code",
   "execution_count": 1,
   "metadata": {},
   "outputs": [],
   "source": [
    "import requests\n",
    "from datetime import timedelta\n",
    "import decimal\n",
    "\n",
    "# Need to get to partent directory to import api info\n",
    "import os,sys,inspect\n",
    "currentdir = os.path.dirname(os.path.abspath(inspect.getfile(inspect.currentframe())))\n",
    "parentdir = os.path.dirname(currentdir)\n",
    "sys.path.insert(0,parentdir) \n",
    "\n",
    "# Now that we have the parent directory, we import the api info\n",
    "from nasak import nasak"
   ]
  },
  {
   "cell_type": "markdown",
   "metadata": {},
   "source": [
    "### User selects date range"
   ]
  },
  {
   "cell_type": "code",
   "execution_count": 2,
   "metadata": {},
   "outputs": [
    {
     "name": "stdout",
     "output_type": "stream",
     "text": [
      "Enter start date (YYYY-MM-DD):2020-06-20\n",
      "Enter end date (YYYY-MM-DD):2020-06-21\n"
     ]
    }
   ],
   "source": [
    "# error handling for incorrect dates\n",
    "\n",
    "# importing datetime\n",
    "import datetime\n",
    "from datetime import date\n",
    "\n",
    "#set bool True\n",
    "bool1 = True\n",
    "\n",
    "#start while loop\n",
    "while bool1 == True:\n",
    "    \n",
    "    #start user input date\n",
    "    start_date = input(\"Enter start date (YYYY-MM-DD):\")\n",
    "    end_date = input(\"Enter end date (YYYY-MM-DD):\")\n",
    "    \n",
    "    # see if the user date is in the correct datetime format and if not, have user try again until it's good\n",
    "    try:\n",
    "        \n",
    "        start_date1 = datetime.datetime.strptime(start_date, '%Y-%m-%d')\n",
    "        end_date1 = datetime.datetime.strptime(end_date, '%Y-%m-%d')\n",
    "        \n",
    "        #see if delta is greater than 7 day limit\n",
    "        delta = end_date1 - start_date1\n",
    "        if delta.days > 6:\n",
    "            print(\"DATE ERROR - end date can only be 7 days after start_date.\")\n",
    "        else:\n",
    "            bool1 = False\n",
    "            break\n",
    "            \n",
    "    except ValueError:\n",
    "        \n",
    "        print(\"DATE FORMAT ERROR - please try again using the format YYYY-MM-DD\")"
   ]
  },
  {
   "cell_type": "markdown",
   "metadata": {},
   "source": [
    "### Make API call and print results"
   ]
  },
  {
   "cell_type": "code",
   "execution_count": 3,
   "metadata": {},
   "outputs": [
    {
     "name": "stdout",
     "output_type": "stream",
     "text": [
      "-----------------------\n",
      "2020-06-20\n",
      "-----------------------\n",
      "---item 1 of 7---\n",
      "name : (2020 KO3)\n",
      "id : 54017196\n",
      "missing distance : 31,420,750.89 miles\n",
      "jpl url : http://ssd.jpl.nasa.gov/sbdb.cgi?sstr=54017196\n",
      "---item 2 of 7---\n",
      "name : (2015 XK1)\n",
      "id : 3735657\n",
      "missing distance : 42,239,663.80 miles\n",
      "jpl url : http://ssd.jpl.nasa.gov/sbdb.cgi?sstr=3735657\n",
      "---item 3 of 7---\n",
      "name : (2018 NF2)\n",
      "id : 3825598\n",
      "missing distance : 40,390,859.70 miles\n",
      "jpl url : http://ssd.jpl.nasa.gov/sbdb.cgi?sstr=3825598\n",
      "---item 4 of 7---\n",
      "name : (2004 MW2)\n",
      "id : 3184159\n",
      "missing distance : 43,058,837.07 miles\n",
      "jpl url : http://ssd.jpl.nasa.gov/sbdb.cgi?sstr=3184159\n",
      "---item 5 of 7---\n",
      "name : (2006 DU62)\n",
      "id : 3324630\n",
      "missing distance : 36,078,779.60 miles\n",
      "jpl url : http://ssd.jpl.nasa.gov/sbdb.cgi?sstr=3324630\n",
      "---item 6 of 7---\n",
      "name : (2008 QV11)\n",
      "id : 3426410\n",
      "missing distance : 20,714,079.63 miles\n",
      "jpl url : http://ssd.jpl.nasa.gov/sbdb.cgi?sstr=3426410\n",
      "---item 7 of 7---\n",
      "name : (2020 HH6)\n",
      "id : 54016755\n",
      "missing distance : 8,897,123.86 miles\n",
      "jpl url : http://ssd.jpl.nasa.gov/sbdb.cgi?sstr=54016755\n",
      "-----------------------\n",
      "2020-06-21\n",
      "-----------------------\n",
      "---item 1 of 14---\n",
      "name : 354952 (2006 FJ9)\n",
      "id : 2354952\n",
      "missing distance : 26,775,821.79 miles\n",
      "jpl url : http://ssd.jpl.nasa.gov/sbdb.cgi?sstr=2354952\n",
      "---item 2 of 14---\n",
      "name : (2014 QS439)\n",
      "id : 3687146\n",
      "missing distance : 25,642,337.94 miles\n",
      "jpl url : http://ssd.jpl.nasa.gov/sbdb.cgi?sstr=3687146\n",
      "---item 3 of 14---\n",
      "name : (2015 LU38)\n",
      "id : 3721288\n",
      "missing distance : 33,138,046.11 miles\n",
      "jpl url : http://ssd.jpl.nasa.gov/sbdb.cgi?sstr=3721288\n",
      "---item 4 of 14---\n",
      "name : (2016 CB137)\n",
      "id : 3742873\n",
      "missing distance : 38,854,336.93 miles\n",
      "jpl url : http://ssd.jpl.nasa.gov/sbdb.cgi?sstr=3742873\n",
      "---item 5 of 14---\n",
      "name : (2020 JT2)\n",
      "id : 54017061\n",
      "missing distance : 17,304,640.27 miles\n",
      "jpl url : http://ssd.jpl.nasa.gov/sbdb.cgi?sstr=54017061\n",
      "---item 6 of 14---\n",
      "name : 511523 (2014 QS439)\n",
      "id : 2511523\n",
      "missing distance : 25,642,098.99 miles\n",
      "jpl url : http://ssd.jpl.nasa.gov/sbdb.cgi?sstr=2511523\n",
      "---item 7 of 14---\n",
      "name : (2000 AH205)\n",
      "id : 3092248\n",
      "missing distance : 6,352,883.84 miles\n",
      "jpl url : http://ssd.jpl.nasa.gov/sbdb.cgi?sstr=3092248\n",
      "---item 8 of 14---\n",
      "name : 374855 (2006 VQ13)\n",
      "id : 2374855\n",
      "missing distance : 36,826,364.05 miles\n",
      "jpl url : http://ssd.jpl.nasa.gov/sbdb.cgi?sstr=2374855\n",
      "---item 9 of 14---\n",
      "name : (2012 XJ16)\n",
      "id : 3619459\n",
      "missing distance : 12,720,065.38 miles\n",
      "jpl url : http://ssd.jpl.nasa.gov/sbdb.cgi?sstr=3619459\n",
      "---item 10 of 14---\n",
      "name : (2013 GT66)\n",
      "id : 3634614\n",
      "missing distance : 36,420,989.65 miles\n",
      "jpl url : http://ssd.jpl.nasa.gov/sbdb.cgi?sstr=3634614\n",
      "---item 11 of 14---\n",
      "name : (2015 HS11)\n",
      "id : 3717081\n",
      "missing distance : 8,001,404.11 miles\n",
      "jpl url : http://ssd.jpl.nasa.gov/sbdb.cgi?sstr=3717081\n",
      "---item 12 of 14---\n",
      "name : (2016 DB1)\n",
      "id : 3744802\n",
      "missing distance : 41,255,380.70 miles\n",
      "jpl url : http://ssd.jpl.nasa.gov/sbdb.cgi?sstr=3744802\n",
      "---item 13 of 14---\n",
      "name : (2019 YC)\n",
      "id : 3942353\n",
      "missing distance : 14,102,743.53 miles\n",
      "jpl url : http://ssd.jpl.nasa.gov/sbdb.cgi?sstr=3942353\n",
      "---item 14 of 14---\n",
      "name : (2020 KN3)\n",
      "id : 54017195\n",
      "missing distance : 45,347,349.32 miles\n",
      "jpl url : http://ssd.jpl.nasa.gov/sbdb.cgi?sstr=54017195\n"
     ]
    }
   ],
   "source": [
    "# Save config information\n",
    "url = 'https://api.nasa.gov/neo/rest/v1/feed?start_date='\n",
    "\n",
    "# Build partial query URL\n",
    "query_url = f'{url}{start_date}&end_date={end_date}&api_key={nasak}'\n",
    "\n",
    "# make get query\n",
    "response = requests.get(query_url).json()\n",
    "\n",
    "neo = response['near_earth_objects']\n",
    "loop_date = start_date1\n",
    "\n",
    "# loop through each day\n",
    "for day in range(delta.days+1):\n",
    "    \n",
    "    # change loop_date to string\n",
    "    loop_date_str = loop_date.strftime(\"%Y-%m-%d\")\n",
    "    \n",
    "    print(\"-----------------------\")\n",
    "    print(loop_date_str)\n",
    "    print(\"-----------------------\")\n",
    "    \n",
    "    # loop through each item in list for selected date\n",
    "    for i in range(len(neo[loop_date_str])):\n",
    "        print(f'---item {i+1} of {len(neo[loop_date_str])}---')\n",
    "        print(\"name : \" + neo[loop_date_str][i]['name'])\n",
    "        print(\"id : \" + neo[loop_date_str][i]['id'])\n",
    "        missing_distance = round(decimal.Decimal(neo[loop_date_str][i]['close_approach_data'][0]['miss_distance']['miles']),2)\n",
    "        print(\"missing distance : \" + str(format(missing_distance, \",\")) + \" miles\")\n",
    "        print(\"jpl url : \" + neo[loop_date_str][i]['nasa_jpl_url'])\n",
    "    \n",
    "    # take loop_date and add one day \n",
    "    loop_date = loop_date + timedelta(days=1)"
   ]
  },
  {
   "cell_type": "markdown",
   "metadata": {},
   "source": [
    "# Look-up specs based on ID"
   ]
  },
  {
   "cell_type": "markdown",
   "metadata": {},
   "source": [
    "### User enters ID"
   ]
  },
  {
   "cell_type": "code",
   "execution_count": 4,
   "metadata": {},
   "outputs": [
    {
     "name": "stdout",
     "output_type": "stream",
     "text": [
      "Enter ID: 54016755\n"
     ]
    }
   ],
   "source": [
    "id_select = input(\"Enter ID: \")"
   ]
  },
  {
   "cell_type": "markdown",
   "metadata": {},
   "source": [
    "### Set up query"
   ]
  },
  {
   "cell_type": "code",
   "execution_count": 7,
   "metadata": {},
   "outputs": [],
   "source": [
    "# Save config information\n",
    "url_id = 'https://api.nasa.gov/neo/rest/v1/neo/'\n",
    "\n",
    "# Build partial query URL\n",
    "query_url_id = f'{url_id}{id_select}?&api_key={nasak}'"
   ]
  },
  {
   "cell_type": "markdown",
   "metadata": {},
   "source": [
    "### Make API call"
   ]
  },
  {
   "cell_type": "code",
   "execution_count": 8,
   "metadata": {},
   "outputs": [
    {
     "name": "stdout",
     "output_type": "stream",
     "text": [
      "{'links': {'self': 'http://www.neowsapp.com/rest/v1/neo/54016755?api_key=3eMYRu2EnhR7Ch0G1uF5wEchDaMlFbOcXt5r793i'}, 'id': '54016755', 'neo_reference_id': '54016755', 'name': '(2020 HH6)', 'designation': '2020 HH6', 'nasa_jpl_url': 'http://ssd.jpl.nasa.gov/sbdb.cgi?sstr=54016755', 'absolute_magnitude_h': 22.132, 'estimated_diameter': {'kilometers': {'estimated_diameter_min': 0.0995760688, 'estimated_diameter_max': 0.2226588588}, 'meters': {'estimated_diameter_min': 99.5760687999, 'estimated_diameter_max': 222.6588587687}, 'miles': {'estimated_diameter_min': 0.0618736814, 'estimated_diameter_max': 0.1383537577}, 'feet': {'estimated_diameter_min': 326.6931495613, 'estimated_diameter_max': 730.5080902026}}, 'is_potentially_hazardous_asteroid': False, 'close_approach_data': [{'close_approach_date': '1910-07-17', 'close_approach_date_full': '1910-Jul-17 14:59', 'epoch_date_close_approach': -1876381260000, 'relative_velocity': {'kilometers_per_second': '17.2434439905', 'kilometers_per_hour': '62076.3983659019', 'miles_per_hour': '38571.8598624128'}, 'miss_distance': {'astronomical': '0.4334331979', 'lunar': '168.6055139831', 'kilometers': '64840683.193128473', 'miles': '40290132.2579520074'}, 'orbiting_body': 'Earth'}, {'close_approach_date': '1922-06-27', 'close_approach_date_full': '1922-Jun-27 18:17', 'epoch_date_close_approach': -1499406180000, 'relative_velocity': {'kilometers_per_second': '9.6412936193', 'kilometers_per_hour': '34708.6570294913', 'miles_per_hour': '21566.6096970192'}, 'miss_distance': {'astronomical': '0.1143955648', 'lunar': '44.4998747072', 'kilometers': '17113332.831526976', 'miles': '10633731.9288092288'}, 'orbiting_body': 'Earth'}, {'close_approach_date': '1934-06-04', 'close_approach_date_full': '1934-Jun-04 18:57', 'epoch_date_close_approach': -1122699780000, 'relative_velocity': {'kilometers_per_second': '9.8022881269', 'kilometers_per_hour': '35288.2372569892', 'miles_per_hour': '21926.7383111553'}, 'miss_distance': {'astronomical': '0.2461664408', 'lunar': '95.7587454712', 'kilometers': '36825975.209161096', 'miles': '22882599.9147152848'}, 'orbiting_body': 'Earth'}, {'close_approach_date': '1965-07-05', 'close_approach_date_full': '1965-Jul-05 23:30', 'epoch_date_close_approach': -141697800000, 'relative_velocity': {'kilometers_per_second': '12.1888114205', 'kilometers_per_hour': '43879.721113688', 'miles_per_hour': '27265.1522664469'}, 'miss_distance': {'astronomical': '0.2288614585', 'lunar': '89.0271073565', 'kilometers': '34237186.716693395', 'miles': '21274001.337203051'}, 'orbiting_body': 'Earth'}, {'close_approach_date': '1977-06-17', 'close_approach_date_full': '1977-Jun-17 01:49', 'epoch_date_close_approach': 235360140000, 'relative_velocity': {'kilometers_per_second': '8.4445206506', 'kilometers_per_hour': '30400.2743422848', 'miles_per_hour': '18889.5482434047'}, 'miss_distance': {'astronomical': '0.1193054408', 'lunar': '46.4098164712', 'kilometers': '17847839.823091096', 'miles': '11090133.4097492848'}, 'orbiting_body': 'Earth'}, {'close_approach_date': '1989-05-18', 'close_approach_date_full': '1989-May-18 19:24', 'epoch_date_close_approach': 611522640000, 'relative_velocity': {'kilometers_per_second': '14.105150472', 'kilometers_per_hour': '50778.541699195', 'miles_per_hour': '31551.8110908137'}, 'miss_distance': {'astronomical': '0.4211834247', 'lunar': '163.8403522083', 'kilometers': '63008143.214425389', 'miles': '39151444.7168288082'}, 'orbiting_body': 'Earth'}, {'close_approach_date': '2008-07-10', 'close_approach_date_full': '2008-Jul-10 21:58', 'epoch_date_close_approach': 1215727080000, 'relative_velocity': {'kilometers_per_second': '14.1993454753', 'kilometers_per_hour': '51117.6437109425', 'miles_per_hour': '31762.5158936131'}, 'miss_distance': {'astronomical': '0.3155621749', 'lunar': '122.7536860361', 'kilometers': '47207429.217607463', 'miles': '29333336.3109424694'}, 'orbiting_body': 'Earth'}, {'close_approach_date': '2020-06-20', 'close_approach_date_full': '2020-Jun-20 01:30', 'epoch_date_close_approach': 1592616600000, 'relative_velocity': {'kilometers_per_second': '8.528702598', 'kilometers_per_hour': '30703.3293529052', 'miles_per_hour': '19077.8548415315'}, 'miss_distance': {'astronomical': '0.0957134819', 'lunar': '37.2325444591', 'kilometers': '14318533.022523553', 'miles': '8897123.8550809114'}, 'orbiting_body': 'Earth'}, {'close_approach_date': '2032-05-18', 'close_approach_date_full': '2032-May-18 22:05', 'epoch_date_close_approach': 1968530700000, 'relative_velocity': {'kilometers_per_second': '14.1216032743', 'kilometers_per_hour': '50837.7717875531', 'miles_per_hour': '31588.6143643271'}, 'miss_distance': {'astronomical': '0.4206567683', 'lunar': '163.6354828687', 'kilometers': '62929356.538763521', 'miles': '39102488.9466817498'}, 'orbiting_body': 'Earth'}, {'close_approach_date': '2051-07-08', 'close_approach_date_full': '2051-Jul-08 00:46', 'epoch_date_close_approach': 2572389960000, 'relative_velocity': {'kilometers_per_second': '12.5637358804', 'kilometers_per_hour': '45229.4491695577', 'miles_per_hour': '28103.8207909399'}, 'miss_distance': {'astronomical': '0.2462437785', 'lunar': '95.7888298365', 'kilometers': '36837544.764351795', 'miles': '22889788.902952971'}, 'orbiting_body': 'Earth'}, {'close_approach_date': '2063-06-12', 'close_approach_date_full': '2063-Jun-12 00:07', 'epoch_date_close_approach': 2948832420000, 'relative_velocity': {'kilometers_per_second': '8.8733018107', 'kilometers_per_hour': '31943.886518439', 'miles_per_hour': '19848.6888203045'}, 'miss_distance': {'astronomical': '0.1725841191', 'lunar': '67.1352223299', 'kilometers': '25818216.613186317', 'miles': '16042695.8937404946'}, 'orbiting_body': 'Earth'}, {'close_approach_date': '2082-07-19', 'close_approach_date_full': '2082-Jul-19 09:52', 'epoch_date_close_approach': 3551680320000, 'relative_velocity': {'kilometers_per_second': '17.4455006507', 'kilometers_per_hour': '62803.8023425261', 'miles_per_hour': '39023.8404055546'}, 'miss_distance': {'astronomical': '0.4435007946', 'lunar': '172.5218090994', 'kilometers': '66346774.215467502', 'miles': '41225973.8236834476'}, 'orbiting_body': 'Earth'}, {'close_approach_date': '2094-06-23', 'close_approach_date_full': '2094-Jun-23 17:40', 'epoch_date_close_approach': 3928153200000, 'relative_velocity': {'kilometers_per_second': '8.8432223503', 'kilometers_per_hour': '31835.6004611859', 'miles_per_hour': '19781.4040754519'}, 'miss_distance': {'astronomical': '0.0842177744', 'lunar': '32.7607142416', 'kilometers': '12598799.666380528', 'miles': '7828531.0988781664'}, 'orbiting_body': 'Earth'}, {'close_approach_date': '2106-05-18', 'close_approach_date_full': '2106-May-18 16:25', 'epoch_date_close_approach': 4303643100000, 'relative_velocity': {'kilometers_per_second': '14.7197115383', 'kilometers_per_hour': '52990.961538042', 'miles_per_hour': '32926.5227401239'}, 'miss_distance': {'astronomical': '0.4340017032', 'lunar': '168.8266625448', 'kilometers': '64925730.375092184', 'miles': '40342978.1263287792'}, 'orbiting_body': 'Earth'}, {'close_approach_date': '2125-07-03', 'close_approach_date_full': '2125-Jul-03 16:22', 'epoch_date_close_approach': 4907233320000, 'relative_velocity': {'kilometers_per_second': '10.6727818489', 'kilometers_per_hour': '38422.0146561156', 'miles_per_hour': '23873.9457178514'}, 'miss_distance': {'astronomical': '0.1564804331', 'lunar': '60.8708884759', 'kilometers': '23409139.488437497', 'miles': '14545764.7820395786'}, 'orbiting_body': 'Earth'}, {'close_approach_date': '2137-05-31', 'close_approach_date_full': '2137-May-31 15:26', 'epoch_date_close_approach': 5283069960000, 'relative_velocity': {'kilometers_per_second': '11.0674909359', 'kilometers_per_hour': '39842.967369118', 'miles_per_hour': '24756.8704744389'}, 'miss_distance': {'astronomical': '0.2868975816', 'lunar': '111.6031592424', 'kilometers': '42919267.115511192', 'miles': '26668795.9370787696'}, 'orbiting_body': 'Earth'}, {'close_approach_date': '2156-07-14', 'close_approach_date_full': '2156-Jul-14 05:40', 'epoch_date_close_approach': 5886452400000, 'relative_velocity': {'kilometers_per_second': '14.3774056992', 'kilometers_per_hour': '51758.660517106', 'miles_per_hour': '32160.8188085318'}, 'miss_distance': {'astronomical': '0.3182662865', 'lunar': '123.8055854485', 'kilometers': '47611958.553209755', 'miles': '29584699.184234419'}, 'orbiting_body': 'Earth'}, {'close_approach_date': '2168-06-15', 'close_approach_date_full': '2168-Jun-15 14:56', 'epoch_date_close_approach': 6262671360000, 'relative_velocity': {'kilometers_per_second': '8.7380642025', 'kilometers_per_hour': '31457.0311290011', 'miles_per_hour': '19546.1758145729'}, 'miss_distance': {'astronomical': '0.1368546722', 'lunar': '53.2364674858', 'kilometers': '20473167.460668214', 'miles': '12721436.3592167932'}, 'orbiting_body': 'Earth'}, {'close_approach_date': '2187-07-21', 'close_approach_date_full': '2187-Jul-21 08:47', 'epoch_date_close_approach': 6865289220000, 'relative_velocity': {'kilometers_per_second': '17.0552192209', 'kilometers_per_hour': '61398.7891953768', 'miles_per_hour': '38150.8198753162'}, 'miss_distance': {'astronomical': '0.4261613931', 'lunar': '165.7767819159', 'kilometers': '63752836.683992697', 'miles': '39614175.7816933386'}, 'orbiting_body': 'Earth'}, {'close_approach_date': '2199-06-22', 'close_approach_date_full': '2199-Jun-22 23:14', 'epoch_date_close_approach': 7241526840000, 'relative_velocity': {'kilometers_per_second': '8.6764354349', 'kilometers_per_hour': '31235.1675655', 'miles_per_hour': '19408.3184242408'}, 'miss_distance': {'astronomical': '0.0868912659', 'lunar': '33.8007024351', 'kilometers': '12998748.300243633', 'miles': '8077047.6560948154'}, 'orbiting_body': 'Earth'}], 'orbital_data': {'orbit_id': '23', 'orbit_determination_date': '2020-06-20 06:27:14', 'first_observation_date': '2020-04-12', 'last_observation_date': '2020-06-19', 'data_arc_in_days': 68, 'observations_used': 132, 'orbit_uncertainty': '5', 'minimum_orbit_intersection': '.0876984', 'jupiter_tisserand_invariant': '3.960', 'epoch_osculation': '2459000.5', 'eccentricity': '.3899506477317361', 'semi_major_axis': '1.787216561908345', 'inclination': '13.77841511265902', 'ascending_node_longitude': '97.09265174493672', 'orbital_period': '872.6984354632398', 'perihelion_distance': '1.090290305955299', 'perihelion_argument': '159.6801196623344', 'aphelion_distance': '2.48414281786139', 'perihelion_time': '2459006.720123455522', 'mean_anomaly': '357.4341142908096', 'mean_motion': '.4125136305634687', 'equinox': 'J2000', 'orbit_class': {'orbit_class_type': 'AMO', 'orbit_class_description': 'Near-Earth asteroid orbits similar to that of 1221 Amor', 'orbit_class_range': '1.017 AU < q (perihelion) < 1.3 AU'}}, 'is_sentry_object': False}\n"
     ]
    }
   ],
   "source": [
    "# make get query\n",
    "response = requests.get(query_url_id).json()\n",
    "\n",
    "print(response)"
   ]
  },
  {
   "cell_type": "code",
   "execution_count": null,
   "metadata": {},
   "outputs": [],
   "source": []
  }
 ],
 "metadata": {
  "kernelspec": {
   "display_name": "Python 3",
   "language": "python",
   "name": "python3"
  },
  "language_info": {
   "codemirror_mode": {
    "name": "ipython",
    "version": 3
   },
   "file_extension": ".py",
   "mimetype": "text/x-python",
   "name": "python",
   "nbconvert_exporter": "python",
   "pygments_lexer": "ipython3",
   "version": "3.7.4"
  }
 },
 "nbformat": 4,
 "nbformat_minor": 2
}
