{
 "cells": [
  {
   "cell_type": "markdown",
   "metadata": {},
   "source": [
    "## Import Dependencies"
   ]
  },
  {
   "cell_type": "code",
   "execution_count": 1,
   "metadata": {},
   "outputs": [],
   "source": [
    "import requests\n",
    "# Need to get to partent directory to import api info\n",
    "import os,sys,inspect\n",
    "currentdir = os.path.dirname(os.path.abspath(inspect.getfile(inspect.currentframe())))\n",
    "parentdir = os.path.dirname(currentdir)\n",
    "sys.path.insert(0,parentdir) \n",
    "\n",
    "# Now that we have the parent directory, we import the api info\n",
    "from nasak import nasak"
   ]
  },
  {
   "cell_type": "markdown",
   "metadata": {},
   "source": [
    "## Select Date"
   ]
  },
  {
   "cell_type": "code",
   "execution_count": 2,
   "metadata": {},
   "outputs": [
    {
     "name": "stdout",
     "output_type": "stream",
     "text": [
      "Date must be after Jun 16, 1995\n",
      "Enter Date (YYYY-MM-DD): egr\n",
      "DATE FORMAT ERROR - please try again using the format YYYY-MM-DD\n",
      "Enter Date (YYYY-MM-DD): 1995-06-15\n",
      "DATE ERROR - date must be after Jun 16, 1995. Please try again.\n",
      "Enter Date (YYYY-MM-DD): 1995-06-16\n"
     ]
    }
   ],
   "source": [
    "# error handling for incorrect dates\n",
    "\n",
    "# importing datetime\n",
    "import datetime\n",
    "\n",
    "# let user know of date limitation\n",
    "print(\"Date must be after Jun 16, 1995\")\n",
    "newDate = datetime.datetime(1995,6,16)\n",
    "\n",
    "#set bool True\n",
    "bool1 = True\n",
    "\n",
    "#start while loop\n",
    "while bool1 == True:\n",
    "    \n",
    "    #start user input date\n",
    "    date = input(\"Enter Date (YYYY-MM-DD): \")\n",
    "    \n",
    "    # see if the user date is in the correct datetime format and if not, have user try again until it's good\n",
    "    try:\n",
    "        datetime.datetime.strptime(date, '%Y-%m-%d')\n",
    "        date1 = datetime.datetime.strptime(date, '%Y-%m-%d')\n",
    "        if date1 < newDate:\n",
    "            print(\"DATE ERROR - date must be after Jun 16, 1995. Please try again.\")\n",
    "        else:\n",
    "            bool1 = False\n",
    "            break\n",
    "    except ValueError:\n",
    "        print(\"DATE FORMAT ERROR - please try again using the format YYYY-MM-DD\")"
   ]
  },
  {
   "cell_type": "markdown",
   "metadata": {},
   "source": [
    "## Prepare to make API call"
   ]
  },
  {
   "cell_type": "code",
   "execution_count": 6,
   "metadata": {},
   "outputs": [],
   "source": [
    "# Save config information\n",
    "url = 'https://api.nasa.gov/planetary/apod?'\n",
    "\n",
    "# Build partial query URL\n",
    "# query_url = f'{url}api_key={nasak}date={date}'\n",
    "query_url = f'{url}api_key={nasak}&date={date}'"
   ]
  },
  {
   "cell_type": "markdown",
   "metadata": {},
   "source": [
    "## Make API call and format data"
   ]
  },
  {
   "cell_type": "code",
   "execution_count": 7,
   "metadata": {},
   "outputs": [
    {
     "name": "stdout",
     "output_type": "stream",
     "text": [
      "{'date': '1995-06-16', 'explanation': \"Today's Picture:    Explanation:  If the Earth could somehow be transformed to the ultra-high density of a neutron star , it might appear as it does in the above computer generated figure. Due to the very strong gravitational field, the neutron star distorts light from the background sky greatly. If you look closely, two images of the constellation Orion are visible. The gravity of this particular neutron star is so great that no part of the neutron star is blocked from view - light is pulled around by gravity even from the back of the neutron star.   We keep an  archive file.  Astronomy Picture of the Day is brought to you by  Robert Nemiroff and  Jerry Bonnell . Original material on this page is copyrighted to Robert Nemiroff and Jerry Bonnell.\", 'hdurl': 'https://apod.nasa.gov/apod/image/e_lens.gif', 'media_type': 'image', 'service_version': 'v1', 'title': 'Neutron Star Earth', 'url': 'https://apod.nasa.gov/apod/image/e_lens.gif'}\n"
     ]
    }
   ],
   "source": [
    "# make get query\n",
    "response = requests.get(query_url).json()\n",
    "\n",
    "# take data from api call and format\n",
    "\n",
    "# some dates don't have url so we needed to place a try/except in case one isn't provided\n",
    "try:\n",
    "    explanation = response['explanation']\n",
    "    webpage_url = explanation.split('digg_url = ')\n",
    "    webpage_url = webpage_url[1].split(';')\n",
    "    webpage_url = webpage_url[0]\n",
    "    length = len(webpage_url)\n",
    "    webpage_url = webpage_url[1:(length-1)]\n",
    "except:\n",
    "    webpage_url = \"web url not provided for this date\"\n",
    "    format_date = date[2:].replace('-', '')\n",
    "    test_url = f'https://apod.nasa.gov/apod/ap{format_date}.html'\n",
    "\n",
    "# print API call full response\n",
    "print(response)"
   ]
  },
  {
   "cell_type": "markdown",
   "metadata": {},
   "source": [
    "## Print API formatted data"
   ]
  },
  {
   "cell_type": "code",
   "execution_count": 8,
   "metadata": {},
   "outputs": [
    {
     "name": "stdout",
     "output_type": "stream",
     "text": [
      "Today's Picture:    Explanation:  If the Earth could somehow be transformed to the ultra-high density of a neutron star , it might appear as it does in the above computer generated figure. Due to the very strong gravitational field, the neutron star distorts light from the background sky greatly. If you look closely, two images of the constellation Orion are visible. The gravity of this particular neutron star is so great that no part of the neutron star is blocked from view - light is pulled around by gravity even from the back of the neutron star.   We keep an  archive file.  Astronomy Picture of the Day is brought to you by  Robert Nemiroff and  Jerry Bonnell . Original material on this page is copyrighted to Robert Nemiroff and Jerry Bonnell.\n",
      "---------------\n",
      "web url not provided for this date\n",
      "---------------\n",
      "this url may work since it wasn't provided in the api call:\n",
      "https://apod.nasa.gov/apod/ap950616.html\n"
     ]
    }
   ],
   "source": [
    "# print explanation of picture\n",
    "print(explanation)\n",
    "\n",
    "print(\"---------------\")\n",
    "\n",
    "# print url\n",
    "print(webpage_url)\n",
    "\n",
    "if webpage_url == \"web url not provided for this date\":\n",
    "    print(\"---------------\")\n",
    "    print(\"this url may work since it wasn't provided in the api call:\")\n",
    "    print(test_url)"
   ]
  },
  {
   "cell_type": "code",
   "execution_count": null,
   "metadata": {},
   "outputs": [],
   "source": []
  }
 ],
 "metadata": {
  "kernelspec": {
   "display_name": "Python 3",
   "language": "python",
   "name": "python3"
  },
  "language_info": {
   "codemirror_mode": {
    "name": "ipython",
    "version": 3
   },
   "file_extension": ".py",
   "mimetype": "text/x-python",
   "name": "python",
   "nbconvert_exporter": "python",
   "pygments_lexer": "ipython3",
   "version": "3.7.4"
  }
 },
 "nbformat": 4,
 "nbformat_minor": 2
}
