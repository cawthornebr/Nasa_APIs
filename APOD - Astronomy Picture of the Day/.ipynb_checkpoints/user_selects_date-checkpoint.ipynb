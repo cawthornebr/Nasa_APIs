{
 "cells": [
  {
   "cell_type": "markdown",
   "metadata": {},
   "source": [
    "## Import Dependencies"
   ]
  },
  {
   "cell_type": "code",
   "execution_count": 1,
   "metadata": {},
   "outputs": [],
   "source": [
    "import requests\n",
    "# Need to get to partent directory to import api info\n",
    "import os,sys,inspect\n",
    "currentdir = os.path.dirname(os.path.abspath(inspect.getfile(inspect.currentframe())))\n",
    "parentdir = os.path.dirname(currentdir)\n",
    "sys.path.insert(0,parentdir) \n",
    "\n",
    "# Now that we have the parent directory, we import the api info\n",
    "from nasak import nasak"
   ]
  },
  {
   "cell_type": "markdown",
   "metadata": {},
   "source": [
    "## Select Date"
   ]
  },
  {
   "cell_type": "code",
   "execution_count": 2,
   "metadata": {},
   "outputs": [
    {
     "name": "stdout",
     "output_type": "stream",
     "text": [
      "Date must be after Jun 16, 1995\n",
      "Enter Date (YYYY-MM-DD): sdf\n",
      "DATE FORMAT ERROR - please try again using the format YYYY-MM-DD\n",
      "Enter Date (YYYY-MM-DD): 1990-01-01\n",
      "DATE ERROR - date must be after Jun 16, 1995. Please try again.\n",
      "Enter Date (YYYY-MM-DD): 2020-01-01\n"
     ]
    }
   ],
   "source": [
    "# error handling for incorrect dates\n",
    "\n",
    "# importing datetime\n",
    "import datetime\n",
    "\n",
    "# let user know of date limitation\n",
    "print(\"Date must be after Jun 16, 1995\")\n",
    "newDate = datetime.datetime(1995,6,16)\n",
    "\n",
    "#set bool True\n",
    "bool1 = True\n",
    "\n",
    "#start while loop\n",
    "while bool1 == True:\n",
    "    \n",
    "    #start user input date\n",
    "    date = input(\"Enter Date (YYYY-MM-DD): \")\n",
    "    \n",
    "    # see if the user date is in the correct datetime format and if not, have user try again until it's good\n",
    "    try:\n",
    "        datetime.datetime.strptime(date, '%Y-%m-%d')\n",
    "        date1 = datetime.datetime.strptime(date, '%Y-%m-%d')\n",
    "        if date1 < newDate:\n",
    "            print(\"DATE ERROR - date must be after Jun 16, 1995. Please try again.\")\n",
    "        else:\n",
    "            bool1 = False\n",
    "            break\n",
    "    except ValueError:\n",
    "        print(\"DATE FORMAT ERROR - please try again using the format YYYY-MM-DD\")"
   ]
  },
  {
   "cell_type": "markdown",
   "metadata": {},
   "source": [
    "## Prepare to make API call"
   ]
  },
  {
   "cell_type": "code",
   "execution_count": 3,
   "metadata": {},
   "outputs": [],
   "source": [
    "# Save config information\n",
    "url = 'https://api.nasa.gov/planetary/apod?'\n",
    "\n",
    "# Build partial query URL\n",
    "# query_url = f'{url}api_key={nasak}date={date}'\n",
    "query_url = f'{url}api_key={nasak}&date={date}'"
   ]
  },
  {
   "cell_type": "markdown",
   "metadata": {},
   "source": [
    "## Make API call and format data"
   ]
  },
  {
   "cell_type": "code",
   "execution_count": 4,
   "metadata": {},
   "outputs": [
    {
     "name": "stdout",
     "output_type": "stream",
     "text": [
      "{'date': '2020-01-01', 'explanation': \"Why is Betelgeuse fading?  No one knows.  Betelgeuse, one of the brightest and most recognized stars in the night sky, is only half as bright as it used to be only five months ago.  Such variability is likely just  normal behavior for this famously variable supergiant, but the recent dimming has rekindled discussion on how long it may be before Betelgeuse does go supernova.  Known for its red color, Betelgeuse is one of the few stars to be resolved by modern telescopes, although only barely.  The featured artist's illustration imagines how Betelgeuse might look up close. Betelgeuse is thought to have a complex and tumultuous surface that frequently throws impressive flares.  Were it to replace the Sun (not recommended), its surface would extend out near the orbit of Jupiter, while gas plumes would bubble out past Neptune.  Since Betelgeuse is about 700 light years away, its eventual supernova will not endanger life on Earth even though its brightness may rival that of a full Moon.  Astronomers -- both amateur and professional -- will surely continue to monitor Betelgeuse as this new decade unfolds.    Free Presentation: APOD Editor to show best astronomy images of 2019 -- and the decade -- in NYC on January 3\", 'hdurl': 'https://apod.nasa.gov/apod/image/2001/BetelgeuseImagined_EsoCalcada_2662.jpg', 'media_type': 'image', 'service_version': 'v1', 'title': 'Betelgeuse Imagined', 'url': 'https://apod.nasa.gov/apod/image/2001/BetelgeuseImagined_EsoCalcada_960.jpg'}\n"
     ]
    }
   ],
   "source": [
    "# make get query\n",
    "response = requests.get(query_url).json()\n",
    "\n",
    "# take data from api call and format\n",
    "\n",
    "# some dates don't have url so we needed to place a try/except in case one isn't provided\n",
    "try:\n",
    "    explanation = response['explanation']\n",
    "    webpage_url = explanation.split('digg_url = ')\n",
    "    webpage_url = webpage_url[1].split(';')\n",
    "    webpage_url = webpage_url[0]\n",
    "    length = len(webpage_url)\n",
    "    webpage_url = webpage_url[1:(length-1)]\n",
    "except:\n",
    "    webpage_url = \"web url not provided for this date\"\n",
    "    format_date = date[2:].replace('-', '')\n",
    "    test_url = f'https://apod.nasa.gov/apod/ap{format_date}.html'\n",
    "\n",
    "# print API call full response\n",
    "print(response)"
   ]
  },
  {
   "cell_type": "markdown",
   "metadata": {},
   "source": [
    "## Print API formatted data"
   ]
  },
  {
   "cell_type": "code",
   "execution_count": 5,
   "metadata": {},
   "outputs": [
    {
     "name": "stdout",
     "output_type": "stream",
     "text": [
      "Why is Betelgeuse fading?  No one knows.  Betelgeuse, one of the brightest and most recognized stars in the night sky, is only half as bright as it used to be only five months ago.  Such variability is likely just  normal behavior for this famously variable supergiant, but the recent dimming has rekindled discussion on how long it may be before Betelgeuse does go supernova.  Known for its red color, Betelgeuse is one of the few stars to be resolved by modern telescopes, although only barely.  The featured artist's illustration imagines how Betelgeuse might look up close. Betelgeuse is thought to have a complex and tumultuous surface that frequently throws impressive flares.  Were it to replace the Sun (not recommended), its surface would extend out near the orbit of Jupiter, while gas plumes would bubble out past Neptune.  Since Betelgeuse is about 700 light years away, its eventual supernova will not endanger life on Earth even though its brightness may rival that of a full Moon.  Astronomers -- both amateur and professional -- will surely continue to monitor Betelgeuse as this new decade unfolds.    Free Presentation: APOD Editor to show best astronomy images of 2019 -- and the decade -- in NYC on January 3\n",
      "---------------\n",
      "web url not provided for this date\n",
      "---------------\n",
      "this url may work since it wasn't provided in the api call:\n",
      "https://apod.nasa.gov/apod/ap200101.html\n"
     ]
    }
   ],
   "source": [
    "# print explanation of picture\n",
    "print(explanation)\n",
    "\n",
    "print(\"---------------\")\n",
    "\n",
    "# print url\n",
    "print(webpage_url)\n",
    "\n",
    "if webpage_url == \"web url not provided for this date\":\n",
    "    print(\"---------------\")\n",
    "    print(\"this url may work since it wasn't provided in the api call:\")\n",
    "    print(test_url)"
   ]
  },
  {
   "cell_type": "code",
   "execution_count": null,
   "metadata": {},
   "outputs": [],
   "source": []
  }
 ],
 "metadata": {
  "kernelspec": {
   "display_name": "Python 3",
   "language": "python",
   "name": "python3"
  },
  "language_info": {
   "codemirror_mode": {
    "name": "ipython",
    "version": 3
   },
   "file_extension": ".py",
   "mimetype": "text/x-python",
   "name": "python",
   "nbconvert_exporter": "python",
   "pygments_lexer": "ipython3",
   "version": "3.7.4"
  }
 },
 "nbformat": 4,
 "nbformat_minor": 2
}
