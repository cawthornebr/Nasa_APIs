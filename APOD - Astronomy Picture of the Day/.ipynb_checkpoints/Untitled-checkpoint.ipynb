{
 "cells": [
  {
   "cell_type": "markdown",
   "metadata": {},
   "source": [
    "## Import Dependencies"
   ]
  },
  {
   "cell_type": "code",
   "execution_count": 1,
   "metadata": {},
   "outputs": [],
   "source": [
    "import requests\n",
    "# Need to get to partent directory to import api info\n",
    "import os,sys,inspect\n",
    "currentdir = os.path.dirname(os.path.abspath(inspect.getfile(inspect.currentframe())))\n",
    "parentdir = os.path.dirname(currentdir)\n",
    "sys.path.insert(0,parentdir) \n",
    "\n",
    "# Now that we have the parent directory, we import the api info\n",
    "from nasak import nasak"
   ]
  },
  {
   "cell_type": "markdown",
   "metadata": {},
   "source": [
    "## Select Date"
   ]
  },
  {
   "cell_type": "code",
   "execution_count": 29,
   "metadata": {},
   "outputs": [
    {
     "name": "stdout",
     "output_type": "stream",
     "text": [
      "Enter Date (YYYY-MM-DD): 2009-01-01\n"
     ]
    }
   ],
   "source": [
    "date = input(\"Enter Date (YYYY-MM-DD): \")"
   ]
  },
  {
   "cell_type": "markdown",
   "metadata": {},
   "source": [
    "## Prepare to make API call"
   ]
  },
  {
   "cell_type": "code",
   "execution_count": 30,
   "metadata": {},
   "outputs": [],
   "source": [
    "# Save config information\n",
    "url = 'https://api.nasa.gov/planetary/apod?'\n",
    "\n",
    "# Build partial query URL\n",
    "# query_url = f'{url}api_key={nasak}date={date}'\n",
    "query_url = f'{url}api_key={nasak}&date={date}'"
   ]
  },
  {
   "cell_type": "markdown",
   "metadata": {},
   "source": [
    "## Make API call and format data"
   ]
  },
  {
   "cell_type": "code",
   "execution_count": 31,
   "metadata": {},
   "outputs": [
    {
     "name": "stdout",
     "output_type": "stream",
     "text": [
      "{'date': '2009-01-01', 'explanation': \"Astronomers all over planet Earth invite you to experience the night sky as part of the International Year of Astronomy 2009. This year was picked by the International Astronomical Union and the United Nations Educational, Scientific, and Cultural Organization because it occurs 400 years after Galileo turned one of the first telescopes toward the heavens.   Peering through that small window, Galileo discovered that the Moon has craters, Venus has phases, Jupiter has moons, and Saturn has rings.  This year you can discover these and many modern wonders of the amazing overhead tapestry that is shared by all of humanity. If, like many others, you find the night sky wondrous and educational, be sure to attend an IYA2009 event in your area, and tell any schools and children that might be interested. Also, please feel free to explore the extensive IYA2009 web pages to find international media events that include blogs, webcasts and much much more.   Note : APOD Editor to Speak in New York on Jan. 2 (tomorrow!)  digg_url = 'http://apod.nasa.gov/apod/ap090101.html'; digg_skin = 'compact';\", 'hdurl': 'https://apod.nasa.gov/apod/image/0901/logo_iya2009_big.jpg', 'media_type': 'image', 'service_version': 'v1', 'title': 'Welcome to the International Year of Astronomy', 'url': 'https://apod.nasa.gov/apod/image/0901/logo_iya2009.jpg'}\n"
     ]
    }
   ],
   "source": [
    "# make get query\n",
    "response = requests.get(query_url).json()\n",
    "\n",
    "# take data from api call and format\n",
    "image_url = response['url']\n",
    "hd_image_url = response['hdurl']\n",
    "explanation = response['explanation']\n",
    "\n",
    "# some dates don't have url so we needed to place a try/except in case one isn't provided\n",
    "try:\n",
    "    webpage_url = explanation.split('digg_url = ')\n",
    "    webpage_url = webpage_url[1].split(';')\n",
    "    webpage_url = webpage_url[0]\n",
    "    length = len(webpage_url)\n",
    "    webpage_url = webpage_url[1:(length-1)]\n",
    "except:\n",
    "    webpage_url = \"web url not provided for this date\"\n",
    "    format_date = date[2:].replace('-', '')\n",
    "    test_url = f'https://apod.nasa.gov/apod/ap{format_date}.html'\n",
    "\n",
    "# print API call full response\n",
    "print(response)"
   ]
  },
  {
   "cell_type": "markdown",
   "metadata": {},
   "source": [
    "## Print API formatted data"
   ]
  },
  {
   "cell_type": "code",
   "execution_count": 32,
   "metadata": {},
   "outputs": [
    {
     "name": "stdout",
     "output_type": "stream",
     "text": [
      "Astronomers all over planet Earth invite you to experience the night sky as part of the International Year of Astronomy 2009. This year was picked by the International Astronomical Union and the United Nations Educational, Scientific, and Cultural Organization because it occurs 400 years after Galileo turned one of the first telescopes toward the heavens.   Peering through that small window, Galileo discovered that the Moon has craters, Venus has phases, Jupiter has moons, and Saturn has rings.  This year you can discover these and many modern wonders of the amazing overhead tapestry that is shared by all of humanity. If, like many others, you find the night sky wondrous and educational, be sure to attend an IYA2009 event in your area, and tell any schools and children that might be interested. Also, please feel free to explore the extensive IYA2009 web pages to find international media events that include blogs, webcasts and much much more.   Note : APOD Editor to Speak in New York on Jan. 2 (tomorrow!)  digg_url = 'http://apod.nasa.gov/apod/ap090101.html'; digg_skin = 'compact';\n",
      "---------------\n",
      "http://apod.nasa.gov/apod/ap090101.html\n"
     ]
    }
   ],
   "source": [
    "# print explanation of picture\n",
    "print(explanation)\n",
    "\n",
    "print(\"---------------\")\n",
    "\n",
    "# print url\n",
    "print(webpage_url)\n",
    "\n",
    "if webpage_url == \"web url not provided for this date\":\n",
    "    print(\"---------------\")\n",
    "    print(\"this url may work since it wasn't provided in the api call:\")\n",
    "    print(test_url)"
   ]
  },
  {
   "cell_type": "code",
   "execution_count": null,
   "metadata": {},
   "outputs": [],
   "source": []
  }
 ],
 "metadata": {
  "kernelspec": {
   "display_name": "Python 3",
   "language": "python",
   "name": "python3"
  },
  "language_info": {
   "codemirror_mode": {
    "name": "ipython",
    "version": 3
   },
   "file_extension": ".py",
   "mimetype": "text/x-python",
   "name": "python",
   "nbconvert_exporter": "python",
   "pygments_lexer": "ipython3",
   "version": "3.7.4"
  }
 },
 "nbformat": 4,
 "nbformat_minor": 2
}
